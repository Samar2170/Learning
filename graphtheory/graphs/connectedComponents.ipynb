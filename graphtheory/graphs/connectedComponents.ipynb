{
 "cells": [
  {
   "cell_type": "code",
   "execution_count": 1,
   "metadata": {},
   "outputs": [],
   "source": [
    "import networkx as nx\n",
    "import matplotlib\n",
    "matplotlib.use('qt5agg')\n",
    "import matplotlib.pyplot as plt\n"
   ]
  },
  {
   "cell_type": "code",
   "execution_count": 2,
   "metadata": {},
   "outputs": [],
   "source": [
    "g=nx.Graph()\n",
    "g.add_nodes_from([3,4,6,8,7,5,1,2])\n",
    "g.add_edge(4,6)\n",
    "g.add_edges_from([(6,8),(6,5),(6,7)])\n",
    "g.add_edges_from([(1,2)])\n",
    "\n",
    "nx.draw(g,with_labels=True)\n",
    "plt.show()"
   ]
  },
  {
   "cell_type": "code",
   "execution_count": 9,
   "metadata": {},
   "outputs": [],
   "source": [
    "## Incomplete graph\n",
    "graph={\n",
    "    3:[],\n",
    "    4:[6],\n",
    "    5:[6],\n",
    "    6:[4,5,7,8],\n",
    "    7:[6],\n",
    "    8:[6],\n",
    "    1:[2],\n",
    "    2:[1]\n",
    "}\n",
    "\n",
    "def completeConnections(graph,node,visited):\n",
    "    if node in visited:\n",
    "        return False\n",
    "    visited.add(node)\n",
    "    for neighbor in graph[node]:\n",
    "        completeConnections(graph,neighbor,visited)\n",
    "    return True\n",
    "\n",
    "def countConnectedComponets(graph):\n",
    "    visited=set()\n",
    "    count=0\n",
    "    for node in graph:\n",
    "        if completeConnections(graph,node,visited):\n",
    "            count+=1\n",
    "    return count"
   ]
  },
  {
   "cell_type": "code",
   "execution_count": 10,
   "metadata": {},
   "outputs": [
    {
     "data": {
      "text/plain": [
       "3"
      ]
     },
     "execution_count": 10,
     "metadata": {},
     "output_type": "execute_result"
    }
   ],
   "source": [
    "countConnectedComponets(graph)"
   ]
  },
  {
   "cell_type": "code",
   "execution_count": 12,
   "metadata": {},
   "outputs": [
    {
     "data": {
      "text/plain": [
       "2"
      ]
     },
     "execution_count": 12,
     "metadata": {},
     "output_type": "execute_result"
    }
   ],
   "source": [
    "graph2 = {\n",
    "    0: [1],\n",
    "    1: [0,2],\n",
    "    2: [3,1],\n",
    "    3: [2],\n",
    "    4: [5],\n",
    "    5: [4]\n",
    "}\n",
    "countConnectedComponets(graph2)"
   ]
  },
  {
   "cell_type": "code",
   "execution_count": null,
   "metadata": {},
   "outputs": [],
   "source": []
  }
 ],
 "metadata": {
  "kernelspec": {
   "display_name": "devenv",
   "language": "python",
   "name": "python3"
  },
  "language_info": {
   "codemirror_mode": {
    "name": "ipython",
    "version": 3
   },
   "file_extension": ".py",
   "mimetype": "text/x-python",
   "name": "python",
   "nbconvert_exporter": "python",
   "pygments_lexer": "ipython3",
   "version": "3.8.10"
  }
 },
 "nbformat": 4,
 "nbformat_minor": 2
}
