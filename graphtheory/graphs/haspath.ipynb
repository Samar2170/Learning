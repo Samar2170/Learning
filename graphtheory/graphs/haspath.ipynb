{
 "cells": [
  {
   "cell_type": "code",
   "execution_count": 1,
   "metadata": {},
   "outputs": [],
   "source": [
    "import networkx as nx\n",
    "import matplotlib\n",
    "matplotlib.use('qt5agg')\n",
    "import matplotlib.pyplot as plt\n"
   ]
  },
  {
   "cell_type": "code",
   "execution_count": null,
   "metadata": {},
   "outputs": [],
   "source": []
  },
  {
   "cell_type": "code",
   "execution_count": 3,
   "metadata": {},
   "outputs": [],
   "source": [
    "g=nx.DiGraph()\n",
    "g.add_nodes_from(['f','g','h','i','j','k'])\n",
    "g.add_edge('f','g')\n",
    "g.add_edge('f','i')\n",
    "g.add_edge('g','h')\n",
    "g.add_edge('i','g')\n",
    "g.add_edge('i','k')\n",
    "g.add_edge('j','i')\n",
    "\n",
    "nx.draw(g,with_labels=True)\n",
    "plt.show()\n"
   ]
  },
  {
   "cell_type": "code",
   "execution_count": 6,
   "metadata": {},
   "outputs": [],
   "source": [
    "gl = {\n",
    "    'f':['g','i'],\n",
    "    'g':['h'],\n",
    "    'h':[],\n",
    "    'i':['g','k'],\n",
    "    'j':['i'],\n",
    "    'k': []\n",
    "}\n",
    "def hasPath(graph, source, dest):\n",
    "    stack=[source]\n",
    "    while len(stack)>0:\n",
    "        current=stack.pop()\n",
    "        if current==dest:\n",
    "            return True\n",
    "        for neighbor in graph[current]:\n",
    "            stack.append(neighbor)\n",
    "    return False "
   ]
  },
  {
   "cell_type": "code",
   "execution_count": 8,
   "metadata": {},
   "outputs": [
    {
     "name": "stdout",
     "output_type": "stream",
     "text": [
      "True\n",
      "False\n",
      "True\n"
     ]
    }
   ],
   "source": [
    "print(hasPath(gl,'f','k'))\n",
    "print(hasPath(gl,'f','j'))\n",
    "print(hasPath(gl,'f','h'))"
   ]
  },
  {
   "cell_type": "code",
   "execution_count": 10,
   "metadata": {},
   "outputs": [],
   "source": [
    "ud = nx.Graph()\n",
    "\n",
    "g = nx.Graph()\n",
    "g.add_nodes_from(['i','j','k','l','m','n','o'])\n",
    "g.add_edges_from([\n",
    "    ('i','j'),\n",
    "    ('k','i'),\n",
    "    ('m','k'),\n",
    "    ('k','l'),\n",
    "    ('o','n')\n",
    "])\n",
    "\n",
    "nx.draw(g,with_labels=True)\n",
    "plt.show()\n"
   ]
  },
  {
   "cell_type": "code",
   "execution_count": 11,
   "metadata": {},
   "outputs": [],
   "source": [
    "edges=[\n",
    "    ('i','j'),\n",
    "    ('k','i'),\n",
    "    ('m','k'),\n",
    "    ('k','l'),\n",
    "    ('o','n')\n",
    "]\n",
    "graph={\n",
    "    'i':['j','k'],\n",
    "    'j':['i'],\n",
    "    'k':['i','m','l'],\n",
    "    'l':['k'],\n",
    "    'm':['k'],\n",
    "    'n':['o'],\n",
    "    'o':['n']\n",
    "}"
   ]
  },
  {
   "cell_type": "code",
   "execution_count": 15,
   "metadata": {},
   "outputs": [
    {
     "name": "stdout",
     "output_type": "stream",
     "text": [
      "{'i': ['j', 'k'], 'j': ['i'], 'k': ['i', 'm', 'l'], 'm': ['k'], 'l': ['k'], 'o': ['n'], 'n': ['o']}\n"
     ]
    }
   ],
   "source": [
    "def buildGraphFromEdgeList(edge_list):\n",
    "    graph={}\n",
    "    for edge in edge_list:\n",
    "        a,b=edge\n",
    "        if a not in graph:\n",
    "            graph[a]=[]\n",
    "        if b not in graph:\n",
    "            graph[b]=[]\n",
    "        graph[a].append(b)\n",
    "        graph[b].append(a)\n",
    "    return graph\n",
    "\n",
    "print(buildGraphFromEdgeList(edges))"
   ]
  },
  {
   "cell_type": "code",
   "execution_count": 18,
   "metadata": {},
   "outputs": [],
   "source": [
    "def dfsUtil(graph, source_node):\n",
    "    depthFirstUndirectedGraph(graph, source_node, set())\n",
    "\n",
    "def depthFirstUndirectedGraph(graph, source_node, visited):\n",
    "    if source_node in visited:\n",
    "        return \n",
    "    print(source_node)\n",
    "    visited.add(source_node)\n",
    "    for neighbor in graph[source_node]:\n",
    "        depthFirstUndirectedGraph(graph,neighbor, visited)\n"
   ]
  },
  {
   "cell_type": "code",
   "execution_count": 26,
   "metadata": {},
   "outputs": [
    {
     "name": "stdout",
     "output_type": "stream",
     "text": [
      "i\n",
      "j\n",
      "k\n",
      "m\n",
      "l\n",
      "---\n",
      "o\n",
      "n\n"
     ]
    }
   ],
   "source": [
    "dfsUtil(graph,'i')\n",
    "print('---')\n",
    "dfsUtil(graph,'o')"
   ]
  },
  {
   "cell_type": "code",
   "execution_count": 23,
   "metadata": {},
   "outputs": [],
   "source": [
    "def hasPathUndirected(graph, source, dest, visited):\n",
    "    if source==dest:\n",
    "        return True\n",
    "    if source in visited:\n",
    "        return False\n",
    "    visited.add(source)\n",
    "    for neighbor in graph[source]:\n",
    "        if hasPathUndirected(graph, neighbor, dest, visited):\n",
    "            return True\n",
    "    return False\n",
    "\n",
    "def checkHasPath(graph, source, dest):\n",
    "    return hasPathUndirected(graph, source, dest, set())\n"
   ]
  },
  {
   "cell_type": "code",
   "execution_count": 25,
   "metadata": {},
   "outputs": [
    {
     "name": "stdout",
     "output_type": "stream",
     "text": [
      "False\n",
      "True\n"
     ]
    }
   ],
   "source": [
    "print(checkHasPath(graph,'i','o'))\n",
    "print(checkHasPath(graph,'i','l'))"
   ]
  },
  {
   "cell_type": "code",
   "execution_count": null,
   "metadata": {},
   "outputs": [],
   "source": []
  }
 ],
 "metadata": {
  "kernelspec": {
   "display_name": "devenv",
   "language": "python",
   "name": "python3"
  },
  "language_info": {
   "codemirror_mode": {
    "name": "ipython",
    "version": 3
   },
   "file_extension": ".py",
   "mimetype": "text/x-python",
   "name": "python",
   "nbconvert_exporter": "python",
   "pygments_lexer": "ipython3",
   "version": "3.8.10"
  }
 },
 "nbformat": 4,
 "nbformat_minor": 2
}
