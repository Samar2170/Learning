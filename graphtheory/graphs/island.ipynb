{
 "cells": [
  {
   "cell_type": "code",
   "execution_count": 1,
   "metadata": {},
   "outputs": [],
   "source": [
    "import networkx as nx\n",
    "import matplotlib\n",
    "matplotlib.use('qt5agg')\n",
    "import matplotlib.pyplot as plt\n"
   ]
  },
  {
   "cell_type": "code",
   "execution_count": 26,
   "metadata": {},
   "outputs": [],
   "source": [
    "def islandCount(grid):\n",
    "    r,c=0,0\n",
    "    visited=set()\n",
    "    islands=0\n",
    "    while r<len(grid):\n",
    "        while c<len(grid[r]):\n",
    "            if completeLand(grid, r,c,visited):\n",
    "                islands+=1\n",
    "            c+=1\n",
    "        c=0\n",
    "        r+=1\n",
    "    return islands\n",
    "\n",
    "\n",
    "def completeLand(grid, row, col, visited):\n",
    "    rowInbounds = 0<=row and row < len(grid)\n",
    "    columnInbounds = 0<=col and col < len(grid[0])\n",
    "    if not rowInbounds or not columnInbounds:\n",
    "        return False\n",
    "    if grid[row][col]=='W':\n",
    "        return False\n",
    "    lookupStr = str(row) + ',' + str(col)\n",
    "    if lookupStr in visited:\n",
    "        return False\n",
    "    visited.add(lookupStr)\n",
    "    completeLand(grid, row-1,col, visited)\n",
    "    completeLand(grid, row+1,col, visited)\n",
    "    completeLand(grid, row,col-1, visited)\n",
    "    completeLand(grid, row,col+1, visited)\n",
    "\n",
    "    return True\n",
    "\n",
    "\n",
    "        \n",
    "\n",
    "grid = [\n",
    "    ['W','L','W','W','W'],\n",
    "    ['W','L','W','W','W'],\n",
    "    ['W','W','W','L','W'],\n",
    "    ['W','W','L','L','W'],\n",
    "    ['L','W','W','L','L'],\n",
    "    ['L','L','W','W','W'],\n",
    "]"
   ]
  },
  {
   "cell_type": "code",
   "execution_count": 27,
   "metadata": {},
   "outputs": [
    {
     "name": "stdout",
     "output_type": "stream",
     "text": [
      "3\n"
     ]
    }
   ],
   "source": [
    "print(islandCount(grid))"
   ]
  },
  {
   "cell_type": "code",
   "execution_count": null,
   "metadata": {},
   "outputs": [],
   "source": []
  }
 ],
 "metadata": {
  "kernelspec": {
   "display_name": "devenv",
   "language": "python",
   "name": "python3"
  },
  "language_info": {
   "codemirror_mode": {
    "name": "ipython",
    "version": 3
   },
   "file_extension": ".py",
   "mimetype": "text/x-python",
   "name": "python",
   "nbconvert_exporter": "python",
   "pygments_lexer": "ipython3",
   "version": "3.8.10"
  }
 },
 "nbformat": 4,
 "nbformat_minor": 2
}
