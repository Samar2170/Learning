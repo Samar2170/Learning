{
 "cells": [
  {
   "cell_type": "code",
   "execution_count": 2,
   "metadata": {},
   "outputs": [],
   "source": [
    "import networkx as nx\n",
    "import matplotlib\n",
    "matplotlib.use('qt5agg')\n",
    "import matplotlib.pyplot as plt\n"
   ]
  },
  {
   "cell_type": "code",
   "execution_count": 4,
   "metadata": {},
   "outputs": [],
   "source": [
    "g=nx.Graph()\n",
    "g.add_nodes_from([\n",
    "    0,1,2,3,4,5,8\n",
    "])\n",
    "g.add_edge(0,1)\n",
    "g.add_edge(0,5)\n",
    "g.add_edge(0,8)\n",
    "g.add_edge(5,8)\n",
    "\n",
    "g.add_edge(4,2)\n",
    "g.add_edge(4,3)\n",
    "g.add_edge(2,3)\n",
    "\n",
    "nx.draw(g, with_labels=True)\n",
    "plt.show()"
   ]
  },
  {
   "cell_type": "code",
   "execution_count": 6,
   "metadata": {},
   "outputs": [],
   "source": [
    "\n",
    "def largestComponent(graph):\n",
    "    visited=set()\n",
    "    maxComponent=0\n",
    "    for node in graph:\n",
    "        if node not in visited:\n",
    "            componentSize=countComponent(graph,node,visited)\n",
    "            maxComponent=max(maxComponent,componentSize)\n",
    "    return maxComponent\n",
    "\n",
    "def countComponent(graph, source,visited):\n",
    "    if source in visited:\n",
    "        return 0\n",
    "    visited.add(source) \n",
    "    count=1\n",
    "    for neighbor in graph[source]:\n",
    "        count +=countComponent(graph,neighbor,visited)\n",
    "    return count"
   ]
  },
  {
   "cell_type": "code",
   "execution_count": 7,
   "metadata": {},
   "outputs": [
    {
     "name": "stdout",
     "output_type": "stream",
     "text": [
      "4\n"
     ]
    }
   ],
   "source": [
    "graph={\n",
    "    0:[1,5,8],\n",
    "    1:[0],\n",
    "    2:[3,4],\n",
    "    3:[2,4],\n",
    "    4:[2,3],\n",
    "    5:[0,8],\n",
    "    8:[0,5]\n",
    "}\n",
    "\n",
    "print(largestComponent(graph))"
   ]
  },
  {
   "cell_type": "code",
   "execution_count": 11,
   "metadata": {},
   "outputs": [
    {
     "name": "stdout",
     "output_type": "stream",
     "text": [
      "6\n"
     ]
    }
   ],
   "source": [
    "graph2 = {\n",
    "    0:[1],\n",
    "    1:[0],\n",
    "    2:[3,4,5,6,7],\n",
    "    3:[2,4],\n",
    "    4:[2,3],\n",
    "    5:[2,6],\n",
    "    6:[2,5],\n",
    "    7:[2],\n",
    "}\n",
    "print(largestComponent(graph2))"
   ]
  },
  {
   "cell_type": "code",
   "execution_count": null,
   "metadata": {},
   "outputs": [],
   "source": []
  }
 ],
 "metadata": {
  "kernelspec": {
   "display_name": "devenv",
   "language": "python",
   "name": "python3"
  },
  "language_info": {
   "codemirror_mode": {
    "name": "ipython",
    "version": 3
   },
   "file_extension": ".py",
   "mimetype": "text/x-python",
   "name": "python",
   "nbconvert_exporter": "python",
   "pygments_lexer": "ipython3",
   "version": "3.8.10"
  }
 },
 "nbformat": 4,
 "nbformat_minor": 2
}
