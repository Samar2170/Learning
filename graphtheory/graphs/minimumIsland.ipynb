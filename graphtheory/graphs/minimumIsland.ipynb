{
 "cells": [
  {
   "cell_type": "code",
   "execution_count": 1,
   "metadata": {},
   "outputs": [],
   "source": [
    "import networkx as nx\n",
    "import matplotlib\n",
    "matplotlib.use('qt5agg')\n",
    "import matplotlib.pyplot as plt\n"
   ]
  },
  {
   "cell_type": "code",
   "execution_count": 15,
   "metadata": {},
   "outputs": [],
   "source": [
    "def MinimumIsland(grid):\n",
    "    r,c=0,0\n",
    "    visited=set()\n",
    "    islands=len(grid)*len(grid[0])\n",
    "    maxIsland=0\n",
    "    while r<len(grid):\n",
    "        while c<len(grid[r]):\n",
    "            islandSize = explore(grid, r,c,visited)\n",
    "            if islandSize!=0 and islandSize< islands:\n",
    "                islands=islandSize\n",
    "            if islandSize>maxIsland:\n",
    "                maxIsland=islandSize\n",
    "            c+=1\n",
    "        c=0\n",
    "        r+=1\n",
    "    return islands, maxIsland\n",
    "\n",
    "def explore(grid, row, col, visited):\n",
    "    rowInbound= 0<=row and row< len(grid)\n",
    "    colInbound= 0<=col and col< len(grid[0])\n",
    "    if not rowInbound or not colInbound:\n",
    "        return 0\n",
    "    if grid[row][col]=='W':\n",
    "        return 0\n",
    "    lookupStr=str(row)+','+str(col)\n",
    "    if lookupStr in visited:\n",
    "        return 0\n",
    "    visited.add(lookupStr)\n",
    "    count=1\n",
    "    count+=explore(grid,row-1,col,visited)\n",
    "    count+=explore(grid,row+1,col,visited)\n",
    "    count+=explore(grid,row,col-1,visited)\n",
    "    count+=explore(grid,row,col+1,visited)\n",
    "    return count"
   ]
  },
  {
   "cell_type": "code",
   "execution_count": 16,
   "metadata": {},
   "outputs": [
    {
     "name": "stdout",
     "output_type": "stream",
     "text": [
      "(2, 5)\n"
     ]
    }
   ],
   "source": [
    "graph = [\n",
    "    ['W', 'L', 'W', 'W', 'W'],\n",
    "    ['W', 'L', 'W', 'W', 'W'],\n",
    "    ['W', 'W', 'W', 'L', 'W'],\n",
    "    ['W', 'W', 'L', 'L', 'W'],\n",
    "    ['L', 'W', 'W', 'L', 'L'],\n",
    "    ['L', 'L', 'W', 'W', 'W'],\n",
    "]\n",
    "\n",
    "print(MinimumIsland(graph)) # 2"
   ]
  },
  {
   "cell_type": "code",
   "execution_count": null,
   "metadata": {},
   "outputs": [],
   "source": []
  }
 ],
 "metadata": {
  "kernelspec": {
   "display_name": "devenv",
   "language": "python",
   "name": "python3"
  },
  "language_info": {
   "codemirror_mode": {
    "name": "ipython",
    "version": 3
   },
   "file_extension": ".py",
   "mimetype": "text/x-python",
   "name": "python",
   "nbconvert_exporter": "python",
   "pygments_lexer": "ipython3",
   "version": "3.8.10"
  }
 },
 "nbformat": 4,
 "nbformat_minor": 2
}
