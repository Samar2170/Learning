{
 "cells": [
  {
   "cell_type": "code",
   "execution_count": 3,
   "metadata": {},
   "outputs": [
    {
     "name": "stdout",
     "output_type": "stream",
     "text": [
      "Collecting networkx\n",
      "  Using cached networkx-3.1-py3-none-any.whl (2.1 MB)\n",
      "Installing collected packages: networkx\n",
      "Successfully installed networkx-3.1\n",
      "\u001b[33mWARNING: You are using pip version 21.1.1; however, version 24.0 is available.\n",
      "You should consider upgrading via the '/home/samar/.pyenv/versions/3.8.10/envs/devenv/bin/python -m pip install --upgrade pip' command.\u001b[0m\n",
      "Note: you may need to restart the kernel to use updated packages.\n",
      "Collecting matplotlib\n",
      "  Using cached matplotlib-3.7.5-cp38-cp38-manylinux_2_12_x86_64.manylinux2010_x86_64.whl (9.2 MB)\n",
      "Collecting pyparsing>=2.3.1\n",
      "  Using cached pyparsing-3.1.2-py3-none-any.whl (103 kB)\n",
      "Requirement already satisfied: numpy<2,>=1.20 in /home/samar/.pyenv/versions/3.8.10/envs/devenv/lib/python3.8/site-packages (from matplotlib) (1.24.4)\n",
      "Collecting fonttools>=4.22.0\n",
      "  Using cached fonttools-4.51.0-cp38-cp38-manylinux_2_17_x86_64.manylinux2014_x86_64.whl (4.7 MB)\n",
      "Collecting cycler>=0.10\n",
      "  Using cached cycler-0.12.1-py3-none-any.whl (8.3 kB)\n",
      "Requirement already satisfied: pillow>=6.2.0 in /home/samar/.pyenv/versions/3.8.10/envs/devenv/lib/python3.8/site-packages (from matplotlib) (10.2.0)\n",
      "Requirement already satisfied: packaging>=20.0 in /home/samar/.pyenv/versions/3.8.10/envs/devenv/lib/python3.8/site-packages (from matplotlib) (24.0)\n",
      "Collecting importlib-resources>=3.2.0\n",
      "  Using cached importlib_resources-6.4.0-py3-none-any.whl (38 kB)\n",
      "Collecting kiwisolver>=1.0.1\n",
      "  Using cached kiwisolver-1.4.5-cp38-cp38-manylinux_2_5_x86_64.manylinux1_x86_64.whl (1.2 MB)\n",
      "Collecting contourpy>=1.0.1\n",
      "  Using cached contourpy-1.1.1-cp38-cp38-manylinux_2_17_x86_64.manylinux2014_x86_64.whl (301 kB)\n",
      "Requirement already satisfied: python-dateutil>=2.7 in /home/samar/.pyenv/versions/3.8.10/envs/devenv/lib/python3.8/site-packages (from matplotlib) (2.9.0.post0)\n",
      "Requirement already satisfied: zipp>=3.1.0 in /home/samar/.pyenv/versions/3.8.10/envs/devenv/lib/python3.8/site-packages (from importlib-resources>=3.2.0->matplotlib) (3.18.1)\n",
      "Requirement already satisfied: six>=1.5 in /home/samar/.pyenv/versions/3.8.10/envs/devenv/lib/python3.8/site-packages (from python-dateutil>=2.7->matplotlib) (1.16.0)\n",
      "Installing collected packages: pyparsing, kiwisolver, importlib-resources, fonttools, cycler, contourpy, matplotlib\n",
      "Successfully installed contourpy-1.1.1 cycler-0.12.1 fonttools-4.51.0 importlib-resources-6.4.0 kiwisolver-1.4.5 matplotlib-3.7.5 pyparsing-3.1.2\n",
      "\u001b[33mWARNING: You are using pip version 21.1.1; however, version 24.0 is available.\n",
      "You should consider upgrading via the '/home/samar/.pyenv/versions/3.8.10/envs/devenv/bin/python -m pip install --upgrade pip' command.\u001b[0m\n",
      "Note: you may need to restart the kernel to use updated packages.\n"
     ]
    }
   ],
   "source": [
    "%pip install networkx\n",
    "%pip install matplotlib\n"
   ]
  },
  {
   "cell_type": "code",
   "execution_count": 8,
   "metadata": {},
   "outputs": [
    {
     "name": "stdout",
     "output_type": "stream",
     "text": [
      "Collecting PyQt5\n",
      "  Downloading PyQt5-5.15.10-cp37-abi3-manylinux_2_17_x86_64.whl (8.2 MB)\n",
      "\u001b[K     |████████████████████████████████| 8.2 MB 4.1 MB/s eta 0:00:01\n",
      "\u001b[?25hCollecting PyQt5-sip<13,>=12.13\n",
      "  Downloading PyQt5_sip-12.13.0-cp38-cp38-manylinux_2_5_x86_64.manylinux1_x86_64.whl (335 kB)\n",
      "\u001b[K     |████████████████████████████████| 335 kB 22.0 MB/s eta 0:00:01\n",
      "\u001b[?25hCollecting PyQt5-Qt5>=5.15.2\n",
      "  Downloading PyQt5_Qt5-5.15.2-py3-none-manylinux2014_x86_64.whl (59.9 MB)\n",
      "\u001b[K     |████████████████████████████████| 59.9 MB 11.0 MB/s eta 0:00:01\n",
      "\u001b[?25hInstalling collected packages: PyQt5-sip, PyQt5-Qt5, PyQt5\n",
      "Successfully installed PyQt5-5.15.10 PyQt5-Qt5-5.15.2 PyQt5-sip-12.13.0\n",
      "\u001b[33mWARNING: You are using pip version 21.1.1; however, version 24.0 is available.\n",
      "You should consider upgrading via the '/home/samar/.pyenv/versions/3.8.10/envs/devenv/bin/python -m pip install --upgrade pip' command.\u001b[0m\n",
      "Note: you may need to restart the kernel to use updated packages.\n"
     ]
    }
   ],
   "source": [
    "%pip install PyQt5"
   ]
  },
  {
   "cell_type": "code",
   "execution_count": 3,
   "metadata": {},
   "outputs": [],
   "source": [
    "import networkx as nx\n",
    "import matplotlib\n",
    "matplotlib.use('qt5agg')\n",
    "G = nx.DiGraph()\n",
    "\n",
    "G.add_nodes_from([1,2,3])\n",
    "\n",
    "G.add_edge(1,2)\n",
    "G.add_edge(2,3)\n",
    "G.add_node(4)\n",
    "G.add_edge(1,4)\n",
    "G.add_edge(2,4)\n",
    "\n",
    "nx.draw(G, with_labels=True)\n",
    "matplotlib.pyplot.show()"
   ]
  },
  {
   "cell_type": "code",
   "execution_count": 4,
   "metadata": {},
   "outputs": [],
   "source": [
    "import matplotlib.pyplot as plt\n",
    "G=nx.DiGraph()\n",
    "G.add_nodes_from([1,2,3,4,5,6])\n",
    "G.add_edge(1,2)\n",
    "G.add_edge(1,3)\n",
    "G.add_edge(2,4)\n",
    "G.add_edge(3,5)\n",
    "G.add_edge(5,2)\n",
    "G.add_edge(6,4)\n",
    "\n",
    "adj_list = {\n",
    "    1: [2, 3],\n",
    "    2: [4],\n",
    "    3: [5],\n",
    "    4: [],\n",
    "    5: [2],\n",
    "    6: [4]\n",
    "}\n",
    "\n",
    "nx.draw(G, with_labels=True)\n",
    "plt.show()"
   ]
  },
  {
   "cell_type": "code",
   "execution_count": 17,
   "metadata": {},
   "outputs": [],
   "source": [
    "adj_list = {\n",
    "    1: [2, 3],\n",
    "    2: [4],\n",
    "    3: [5],\n",
    "    4: [],\n",
    "    5: [2],\n",
    "    6: [4]\n",
    "}\n",
    "adj_list2 = {\n",
    "    1: [2, 3],\n",
    "    2: [4],\n",
    "    3: [5],\n",
    "    4: [6],\n",
    "    5: [],\n",
    "    6: []\n",
    "}\n",
    "\n",
    "\n",
    "def depthFirstPrint(graph, source_node):\n",
    "    stack = [source_node]\n",
    "    while len(stack)>0:\n",
    "        current_node = stack.pop()\n",
    "        print(current_node)\n",
    "        for neighbor in graph[current_node]:\n",
    "            stack.append(neighbor)\n",
    "\n",
    "            \n",
    "def depthFirstPrintR(graph, source_node):\n",
    "    print(source_node)\n",
    "    for neighbor in graph[source_node]:\n",
    "        depthFirstPrintR(graph, neighbor)"
   ]
  },
  {
   "cell_type": "code",
   "execution_count": 20,
   "metadata": {},
   "outputs": [
    {
     "name": "stdout",
     "output_type": "stream",
     "text": [
      "1\n",
      "3\n",
      "5\n",
      "2\n",
      "4\n",
      "6\n"
     ]
    }
   ],
   "source": [
    "depthFirstPrint(adj_list2, 1)"
   ]
  },
  {
   "cell_type": "code",
   "execution_count": 21,
   "metadata": {},
   "outputs": [
    {
     "name": "stdout",
     "output_type": "stream",
     "text": [
      "1\n",
      "2\n",
      "4\n",
      "6\n",
      "3\n",
      "5\n"
     ]
    }
   ],
   "source": [
    "depthFirstPrintR(adj_list2, 1)\n"
   ]
  },
  {
   "cell_type": "code",
   "execution_count": 24,
   "metadata": {},
   "outputs": [],
   "source": [
    "adj_list2 = {\n",
    "    1: [2, 3],\n",
    "    2: [4],\n",
    "    3: [5],\n",
    "    4: [6],\n",
    "    5: [],\n",
    "    6: []\n",
    "}\n",
    "\n",
    "def breadthFirstPrint(graph, source_node):\n",
    "    queue = [source_node]\n",
    "    while len(queue)>0:\n",
    "        current_node = queue.pop(0)\n",
    "        print(current_node)\n",
    "        for neighbor in graph[current_node]:\n",
    "            queue.append(neighbor)\n",
    "    "
   ]
  },
  {
   "cell_type": "code",
   "execution_count": 25,
   "metadata": {},
   "outputs": [
    {
     "name": "stdout",
     "output_type": "stream",
     "text": [
      "1\n",
      "2\n",
      "3\n",
      "4\n",
      "5\n",
      "6\n"
     ]
    }
   ],
   "source": [
    "breadthFirstPrint(adj_list2, 1)"
   ]
  },
  {
   "cell_type": "code",
   "execution_count": null,
   "metadata": {},
   "outputs": [],
   "source": []
  }
 ],
 "metadata": {
  "kernelspec": {
   "display_name": "conceptvenv",
   "language": "python",
   "name": "python3"
  },
  "language_info": {
   "codemirror_mode": {
    "name": "ipython",
    "version": 3
   },
   "file_extension": ".py",
   "mimetype": "text/x-python",
   "name": "python",
   "nbconvert_exporter": "python",
   "pygments_lexer": "ipython3",
   "version": "3.8.10"
  }
 },
 "nbformat": 4,
 "nbformat_minor": 2
}
