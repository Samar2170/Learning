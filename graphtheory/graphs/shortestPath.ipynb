{
 "cells": [
  {
   "cell_type": "code",
   "execution_count": 1,
   "metadata": {},
   "outputs": [],
   "source": [
    "import networkx as nx\n",
    "import matplotlib\n",
    "matplotlib.use('qt5agg')\n",
    "import matplotlib.pyplot as plt\n"
   ]
  },
  {
   "cell_type": "code",
   "execution_count": 2,
   "metadata": {},
   "outputs": [],
   "source": [
    "g=nx.Graph()\n",
    "g.add_nodes_from(['V','W','X','Y','Z'])\n",
    "g.add_edge('V','W')\n",
    "g.add_edge('W','X')\n",
    "g.add_edge('X','Y')\n",
    "g.add_edge('Y','Z')\n",
    "g.add_edge('Z','V')\n",
    "\n",
    "nx.draw(g,with_labels=True)\n",
    "plt.show()"
   ]
  },
  {
   "cell_type": "code",
   "execution_count": 3,
   "metadata": {},
   "outputs": [],
   "source": [
    "def shortestPath(graph, source,dest):\n",
    "    visited={source}\n",
    "    queue = [(source,0)]\n",
    "    while len(queue)>0:\n",
    "        current,dist =queue.pop(0)\n",
    "        if current == dest:\n",
    "            return dist\n",
    "        for neighbor in graph[current]:\n",
    "            if not neighbor in visited:\n",
    "                visited.add(neighbor)\n",
    "                queue.append((neighbor,dist+1))\n",
    "    return -1\n",
    "\n",
    "    "
   ]
  },
  {
   "cell_type": "code",
   "execution_count": 4,
   "metadata": {},
   "outputs": [
    {
     "name": "stdout",
     "output_type": "stream",
     "text": [
      "2\n"
     ]
    }
   ],
   "source": [
    "graph = {\n",
    "    'V': ['W', 'Z'],\n",
    "    'W': ['V', 'X'],\n",
    "    'X': ['W', 'Y'],\n",
    "    'Y': ['X', 'Z'],\n",
    "    'Z': ['Y', 'V']\n",
    "}\n",
    "\n",
    "print(shortestPath(graph,'V','Y'))"
   ]
  },
  {
   "cell_type": "code",
   "execution_count": null,
   "metadata": {},
   "outputs": [],
   "source": []
  }
 ],
 "metadata": {
  "kernelspec": {
   "display_name": "devenv",
   "language": "python",
   "name": "python3"
  },
  "language_info": {
   "codemirror_mode": {
    "name": "ipython",
    "version": 3
   },
   "file_extension": ".py",
   "mimetype": "text/x-python",
   "name": "python",
   "nbconvert_exporter": "python",
   "pygments_lexer": "ipython3",
   "version": "3.8.10"
  }
 },
 "nbformat": 4,
 "nbformat_minor": 2
}
